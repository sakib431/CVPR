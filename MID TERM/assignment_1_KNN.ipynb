{
  "nbformat": 4,
  "nbformat_minor": 0,
  "metadata": {
    "colab": {
      "provenance": [],
      "gpuType": "T4"
    },
    "kernelspec": {
      "name": "python3",
      "display_name": "Python 3"
    },
    "language_info": {
      "name": "python"
    },
    "accelerator": "GPU"
  },
  "cells": [
    {
      "cell_type": "code",
      "source": [
        "from google.colab import drive\n",
        "\n",
        "drive.mount('/content/drive/')"
      ],
      "metadata": {
        "colab": {
          "base_uri": "https://localhost:8080/"
        },
        "id": "9BuDCAK6Vxsd",
        "outputId": "70bdc2f0-95de-44b3-daf7-a472e22c3285"
      },
      "execution_count": 1,
      "outputs": [
        {
          "output_type": "stream",
          "name": "stdout",
          "text": [
            "Mounted at /content/drive/\n"
          ]
        }
      ]
    },
    {
      "cell_type": "code",
      "source": [
        "import os\n",
        "import random\n",
        "import cv2\n",
        "from tqdm import tqdm\n",
        "import numpy as np\n",
        "import matplotlib.pyplot as plt"
      ],
      "metadata": {
        "id": "vofXQfaiV0Zv"
      },
      "execution_count": 2,
      "outputs": []
    },
    {
      "cell_type": "code",
      "execution_count": 3,
      "metadata": {
        "id": "Z-cajQw6RHVS"
      },
      "outputs": [],
      "source": [
        "train_dir = \"/content/drive/MyDrive/Nazmus_Sakib/test\""
      ]
    },
    {
      "cell_type": "code",
      "source": [
        "image_types = []"
      ],
      "metadata": {
        "id": "-pvfzxKGV1-P"
      },
      "execution_count": 4,
      "outputs": []
    },
    {
      "cell_type": "code",
      "source": [
        "for i in os.listdir(train_dir):\n",
        "    image_types.append(i)"
      ],
      "metadata": {
        "id": "iClVYWSSV3gY"
      },
      "execution_count": 5,
      "outputs": []
    },
    {
      "cell_type": "code",
      "source": [
        "print(\"Types of images in dataset: \")\n",
        "print(image_types)"
      ],
      "metadata": {
        "colab": {
          "base_uri": "https://localhost:8080/"
        },
        "id": "OgN4WYuiWppZ",
        "outputId": "46b9201d-9ec6-45d8-864c-384befbf0d04"
      },
      "execution_count": 6,
      "outputs": [
        {
          "output_type": "stream",
          "name": "stdout",
          "text": [
            "Types of images in dataset: \n",
            "['ship', 'truck', 'deer', 'horse', 'dog', 'automobile', 'cat', 'frog', 'bird', 'airplane']\n"
          ]
        }
      ]
    },
    {
      "cell_type": "code",
      "source": [
        "train_data = []"
      ],
      "metadata": {
        "id": "iVmbohsTWpll"
      },
      "execution_count": 7,
      "outputs": []
    },
    {
      "cell_type": "code",
      "source": [
        "for i in image_types:\n",
        "    train_path = os.path.join(train_dir, i)\n",
        "    class_type = i\n",
        "    for image in tqdm(os.listdir(train_path)):\n",
        "        train_data_arr = cv2.imread(os.path.join(train_path, image))\n",
        "        grayscale_image_arr = cv2.cvtColor(train_data_arr, cv2.COLOR_BGR2GRAY)\n",
        "        train_data.append([grayscale_image_arr, class_type])"
      ],
      "metadata": {
        "colab": {
          "base_uri": "https://localhost:8080/"
        },
        "id": "9Kd_PO4rWpiU",
        "outputId": "172f7d07-2ed4-48cc-f092-6c4bb54777e2"
      },
      "execution_count": 8,
      "outputs": [
        {
          "output_type": "stream",
          "name": "stderr",
          "text": [
            "100%|██████████| 479/479 [00:05<00:00, 80.43it/s] \n",
            "100%|██████████| 1000/1000 [00:14<00:00, 71.15it/s]\n",
            "0it [00:00, ?it/s]\n",
            "0it [00:00, ?it/s]\n",
            "0it [00:00, ?it/s]\n",
            "0it [00:00, ?it/s]\n",
            "0it [00:00, ?it/s]\n",
            "0it [00:00, ?it/s]\n",
            "0it [00:00, ?it/s]\n",
            "0it [00:00, ?it/s]\n"
          ]
        }
      ]
    },
    {
      "cell_type": "code",
      "source": [
        "plt.figure(figsize=(20,5))\n",
        "for i in range(5):\n",
        "\tplt.subplot(2,10,i+1)\n",
        "\tplt.imshow(train_data[i][0], cmap=\"gray\")\n",
        "\tplt.xticks([])\n",
        "\tplt.yticks([])\n",
        "\tplt.xlabel(f\"{train_data[i][1]}\")\n",
        "plt.show()"
      ],
      "metadata": {
        "colab": {
          "base_uri": "https://localhost:8080/",
          "height": 187
        },
        "id": "LaM6Zq6EWpfb",
        "outputId": "b1ec732d-3928-417e-c46d-4c1f94571f23"
      },
      "execution_count": 9,
      "outputs": [
        {
          "output_type": "display_data",
          "data": {
            "text/plain": [
              "<Figure size 2000x500 with 5 Axes>"
            ],
            "image/png": "[encoded data removed]"
          },
          "metadata": {}
        }
      ]
    },
    {
      "cell_type": "code",
      "source": [
        "random.shuffle(train_data)"
      ],
      "metadata": {
        "id": "smcjJMsAWpcQ"
      },
      "execution_count": 10,
      "outputs": []
    },
    {
      "cell_type": "code",
      "source": [
        "plt.figure(figsize=(20,5))\n",
        "for i in range(5):\n",
        "\tplt.subplot(2,10,i+1)\n",
        "\tplt.imshow(train_data[i][0], cmap=\"gray\")\n",
        "\tplt.xticks([])\n",
        "\tplt.yticks([])\n",
        "\tplt.xlabel(f\"{train_data[i][1]}\")\n",
        "plt.show()"
      ],
      "metadata": {
        "colab": {
          "base_uri": "https://localhost:8080/",
          "height": 187
        },
        "id": "72pLQvP0WpWS",
        "outputId": "826ae11b-a4aa-46c3-9692-abe12cc7801c"
      },
      "execution_count": 11,
      "outputs": [
        {
          "output_type": "display_data",
          "data": {
            "text/plain": [
              "<Figure size 2000x500 with 5 Axes>"
            ],
            "image/png": "[encoded data removed]"
          },
          "metadata": {}
        }
      ]
    },
    {
      "cell_type": "code",
      "source": [
        "f0 = train_data[0:1000]\n",
        "f1 = train_data[1000:2000]\n",
        "f2 = train_data[2000:3000]\n",
        "f3 = train_data[3000:4000]\n",
        "f4 = train_data[4000:5000]"
      ],
      "metadata": {
        "id": "gJvXNF1bWpNn"
      },
      "execution_count": 12,
      "outputs": []
    },
    {
      "cell_type": "code",
      "source": [
        "import numpy as np\n",
        "import matplotlib.pyplot as plt\n",
        "\n",
        "k_values = range(1, 21)\n",
        "accuracies_l1 = []\n",
        "accuracies_l2 = []\n",
        "top_predictions_l1 = []\n",
        "top_predictions_l2 = []\n",
        "\n",
        "for k in k_values:\n",
        "    fold_accuracies_l1 = []\n",
        "    fold_accuracies_l2 = []\n",
        "    fold_predictions_l1 = []\n",
        "    fold_predictions_l2 = []\n",
        "\n",
        "    for i in range(5):\n",
        "        if i == 0:\n",
        "            train = f1 + f2 + f3 + f4\n",
        "            validation = f0\n",
        "        elif i == 1:\n",
        "            train = f0 + f2 + f3 + f4\n",
        "            validation = f1\n",
        "        elif i == 2:\n",
        "            train = f1 + f0 + f3 + f4\n",
        "            validation = f2\n",
        "        elif i == 3:\n",
        "            train = f1 + f2 + f0 + f4\n",
        "            validation = f3\n",
        "        elif i == 4:\n",
        "            train = f1 + f2 + f3 + f0\n",
        "            validation = f4\n",
        "\n",
        "        correct_l1 = 0\n",
        "        correct_l2 = 0\n",
        "        total = 0\n",
        "        predictions_l1 = []\n",
        "        predictions_l2 = []\n",
        "\n",
        "        for v in validation:\n",
        "            distances_l1 = []\n",
        "            distances_l2 = []\n",
        "\n",
        "            for t in train:\n",
        "                l1_dist = np.sum(np.abs(t[0] - v[0]))\n",
        "                l2_dist = np.sqrt(np.sum((t[0] - v[0]) ** 2))\n",
        "                distances_l1.append((l1_dist, t[1]))\n",
        "                distances_l2.append((l2_dist, t[1]))\n",
        "\n",
        "            distances_l1.sort()\n",
        "            distances_l2.sort()\n",
        "\n",
        "            neighbors_l1 = [dist[1] for dist in distances_l1[:k]]\n",
        "            neighbors_l2 = [dist[1] for dist in distances_l2[:k]]\n",
        "\n",
        "            prediction_l1 = max(set(neighbors_l1), key=neighbors_l1.count)\n",
        "            prediction_l2 = max(set(neighbors_l2), key=neighbors_l2.count)\n",
        "\n",
        "            if prediction_l1 == v[1]:\n",
        "                correct_l1 += 1\n",
        "            if prediction_l2 == v[1]:\n",
        "                correct_l2 += 1\n",
        "\n",
        "            total += 1\n",
        "\n",
        "            top_k_predictions_l1 = [dist[1] for dist in distances_l1[:5]]\n",
        "            top_k_predictions_l2 = [dist[1] for dist in distances_l2[:5]]\n",
        "            predictions_l1.append(top_k_predictions_l1)\n",
        "            predictions_l2.append(top_k_predictions_l2)\n",
        "\n",
        "        if total == 0:\n",
        "            # Handle the case where no validation samples were processed\n",
        "            accuracy_l1 = 0.0\n",
        "            accuracy_l2 = 0.0\n",
        "        else:\n",
        "            accuracy_l1 = correct_l1 / total\n",
        "            accuracy_l2 = correct_l2 / total\n",
        "\n",
        "        fold_accuracies_l1.append(accuracy_l1)\n",
        "        fold_accuracies_l2.append(accuracy_l2)\n",
        "        fold_predictions_l1.append(predictions_l1)\n",
        "        fold_predictions_l2.append(predictions_l2)\n",
        "\n",
        "        print(\"Fold\", i, \"K =\", k, \"Manhattan (L1) Accuracy:\", accuracy_l1)\n",
        "        print(\"Fold\", i, \"K =\", k, \"Euclidean (L2) Accuracy:\", accuracy_l2)\n",
        "\n",
        "    accuracies_l1.append(fold_accuracies_l1)\n",
        "    accuracies_l2.append(fold_accuracies_l2)\n",
        "    top_predictions_l1.append(fold_predictions_l1)\n",
        "    top_predictions_l2.append(fold_predictions_l2)\n",
        "\n",
        "accuracies_l1 = np.array(accuracies_l1)\n",
        "accuracies_l2 = np.array(accuracies_l2)\n",
        "\n",
        "avg_accuracies_l1 = np.mean(accuracies_l1, axis=1)\n",
        "avg_accuracies_l2 = np.mean(accuracies_l2, axis=1)\n",
        "\n",
        "plt.plot(k_values, avg_accuracies_l1, label=\"Manhattan (L1)\")\n",
        "plt.plot(k_values, avg_accuracies_l2, label=\"Euclidean (L2)\")\n",
        "plt.xlabel(\"K\")\n",
        "plt.ylabel(\"Accuracy\")\n",
        "plt.title(\"Accuracy vs. K for Different Distance Metrics\")\n",
        "plt.legend()\n",
        "plt.show()\n",
        "\n",
        "fold_index = 0\n",
        "validation_index = 0\n",
        "top_5_predictions_l1 = top_predictions_l1[fold_index][validation_index]\n",
        "top_5_predictions_l2 = top_predictions_l2[fold_index][validation_index]\n"
      ],
      "metadata": {
        "colab": {
          "base_uri": "https://localhost:8080/",
          "height": 1000
        },
        "id": "gbavXiXXWo8h",
        "outputId": "505d7dba-ecd5-4841-badc-2a487b5e2459"
      },
      "execution_count": 15,
      "outputs": [
        {
          "output_type": "stream",
          "name": "stdout",
          "text": [
            "Fold 0 K = 1 Manhattan (L1) Accuracy: 0.501\n",
            "Fold 0 K = 1 Euclidean (L2) Accuracy: 0.573\n",
            "Fold 1 K = 1 Manhattan (L1) Accuracy: 0.5302713987473904\n",
            "Fold 1 K = 1 Euclidean (L2) Accuracy: 0.5845511482254697\n",
            "Fold 2 K = 1 Manhattan (L1) Accuracy: 0.0\n",
            "Fold 2 K = 1 Euclidean (L2) Accuracy: 0.0\n",
            "Fold 3 K = 1 Manhattan (L1) Accuracy: 0.0\n",
            "Fold 3 K = 1 Euclidean (L2) Accuracy: 0.0\n",
            "Fold 4 K = 1 Manhattan (L1) Accuracy: 0.0\n",
            "Fold 4 K = 1 Euclidean (L2) Accuracy: 0.0\n",
            "Fold 0 K = 2 Manhattan (L1) Accuracy: 0.386\n",
            "Fold 0 K = 2 Euclidean (L2) Accuracy: 0.449\n",
            "Fold 1 K = 2 Manhattan (L1) Accuracy: 0.4551148225469729\n",
            "Fold 1 K = 2 Euclidean (L2) Accuracy: 0.5281837160751566\n",
            "Fold 2 K = 2 Manhattan (L1) Accuracy: 0.0\n",
            "Fold 2 K = 2 Euclidean (L2) Accuracy: 0.0\n",
            "Fold 3 K = 2 Manhattan (L1) Accuracy: 0.0\n",
            "Fold 3 K = 2 Euclidean (L2) Accuracy: 0.0\n",
            "Fold 4 K = 2 Manhattan (L1) Accuracy: 0.0\n",
            "Fold 4 K = 2 Euclidean (L2) Accuracy: 0.0\n",
            "Fold 0 K = 3 Manhattan (L1) Accuracy: 0.497\n",
            "Fold 0 K = 3 Euclidean (L2) Accuracy: 0.605\n",
            "Fold 1 K = 3 Manhattan (L1) Accuracy: 0.5365344467640919\n",
            "Fold 1 K = 3 Euclidean (L2) Accuracy: 0.6096033402922756\n",
            "Fold 2 K = 3 Manhattan (L1) Accuracy: 0.0\n",
            "Fold 2 K = 3 Euclidean (L2) Accuracy: 0.0\n",
            "Fold 3 K = 3 Manhattan (L1) Accuracy: 0.0\n",
            "Fold 3 K = 3 Euclidean (L2) Accuracy: 0.0\n",
            "Fold 4 K = 3 Manhattan (L1) Accuracy: 0.0\n",
            "Fold 4 K = 3 Euclidean (L2) Accuracy: 0.0\n",
            "Fold 0 K = 4 Manhattan (L1) Accuracy: 0.422\n",
            "Fold 0 K = 4 Euclidean (L2) Accuracy: 0.531\n",
            "Fold 1 K = 4 Manhattan (L1) Accuracy: 0.48643006263048016\n",
            "Fold 1 K = 4 Euclidean (L2) Accuracy: 0.55741127348643\n",
            "Fold 2 K = 4 Manhattan (L1) Accuracy: 0.0\n",
            "Fold 2 K = 4 Euclidean (L2) Accuracy: 0.0\n",
            "Fold 3 K = 4 Manhattan (L1) Accuracy: 0.0\n",
            "Fold 3 K = 4 Euclidean (L2) Accuracy: 0.0\n",
            "Fold 4 K = 4 Manhattan (L1) Accuracy: 0.0\n",
            "Fold 4 K = 4 Euclidean (L2) Accuracy: 0.0\n",
            "Fold 0 K = 5 Manhattan (L1) Accuracy: 0.511\n",
            "Fold 0 K = 5 Euclidean (L2) Accuracy: 0.614\n",
            "Fold 1 K = 5 Manhattan (L1) Accuracy: 0.5323590814196242\n",
            "Fold 1 K = 5 Euclidean (L2) Accuracy: 0.6221294363256785\n",
            "Fold 2 K = 5 Manhattan (L1) Accuracy: 0.0\n",
            "Fold 2 K = 5 Euclidean (L2) Accuracy: 0.0\n",
            "Fold 3 K = 5 Manhattan (L1) Accuracy: 0.0\n",
            "Fold 3 K = 5 Euclidean (L2) Accuracy: 0.0\n",
            "Fold 4 K = 5 Manhattan (L1) Accuracy: 0.0\n",
            "Fold 4 K = 5 Euclidean (L2) Accuracy: 0.0\n",
            "Fold 0 K = 6 Manhattan (L1) Accuracy: 0.444\n",
            "Fold 0 K = 6 Euclidean (L2) Accuracy: 0.556\n",
            "Fold 1 K = 6 Manhattan (L1) Accuracy: 0.5073068893528184\n",
            "Fold 1 K = 6 Euclidean (L2) Accuracy: 0.5866388308977035\n",
            "Fold 2 K = 6 Manhattan (L1) Accuracy: 0.0\n",
            "Fold 2 K = 6 Euclidean (L2) Accuracy: 0.0\n",
            "Fold 3 K = 6 Manhattan (L1) Accuracy: 0.0\n",
            "Fold 3 K = 6 Euclidean (L2) Accuracy: 0.0\n",
            "Fold 4 K = 6 Manhattan (L1) Accuracy: 0.0\n",
            "Fold 4 K = 6 Euclidean (L2) Accuracy: 0.0\n",
            "Fold 0 K = 7 Manhattan (L1) Accuracy: 0.497\n",
            "Fold 0 K = 7 Euclidean (L2) Accuracy: 0.625\n",
            "Fold 1 K = 7 Manhattan (L1) Accuracy: 0.5302713987473904\n",
            "Fold 1 K = 7 Euclidean (L2) Accuracy: 0.6096033402922756\n",
            "Fold 2 K = 7 Manhattan (L1) Accuracy: 0.0\n",
            "Fold 2 K = 7 Euclidean (L2) Accuracy: 0.0\n",
            "Fold 3 K = 7 Manhattan (L1) Accuracy: 0.0\n",
            "Fold 3 K = 7 Euclidean (L2) Accuracy: 0.0\n",
            "Fold 4 K = 7 Manhattan (L1) Accuracy: 0.0\n",
            "Fold 4 K = 7 Euclidean (L2) Accuracy: 0.0\n",
            "Fold 0 K = 8 Manhattan (L1) Accuracy: 0.452\n",
            "Fold 0 K = 8 Euclidean (L2) Accuracy: 0.59\n",
            "Fold 1 K = 8 Manhattan (L1) Accuracy: 0.49478079331941544\n",
            "Fold 1 K = 8 Euclidean (L2) Accuracy: 0.5949895615866388\n",
            "Fold 2 K = 8 Manhattan (L1) Accuracy: 0.0\n",
            "Fold 2 K = 8 Euclidean (L2) Accuracy: 0.0\n",
            "Fold 3 K = 8 Manhattan (L1) Accuracy: 0.0\n",
            "Fold 3 K = 8 Euclidean (L2) Accuracy: 0.0\n",
            "Fold 4 K = 8 Manhattan (L1) Accuracy: 0.0\n",
            "Fold 4 K = 8 Euclidean (L2) Accuracy: 0.0\n",
            "Fold 0 K = 9 Manhattan (L1) Accuracy: 0.503\n",
            "Fold 0 K = 9 Euclidean (L2) Accuracy: 0.638\n",
            "Fold 1 K = 9 Manhattan (L1) Accuracy: 0.5365344467640919\n",
            "Fold 1 K = 9 Euclidean (L2) Accuracy: 0.6242171189979123\n",
            "Fold 2 K = 9 Manhattan (L1) Accuracy: 0.0\n",
            "Fold 2 K = 9 Euclidean (L2) Accuracy: 0.0\n",
            "Fold 3 K = 9 Manhattan (L1) Accuracy: 0.0\n",
            "Fold 3 K = 9 Euclidean (L2) Accuracy: 0.0\n",
            "Fold 4 K = 9 Manhattan (L1) Accuracy: 0.0\n",
            "Fold 4 K = 9 Euclidean (L2) Accuracy: 0.0\n",
            "Fold 0 K = 10 Manhattan (L1) Accuracy: 0.454\n",
            "Fold 0 K = 10 Euclidean (L2) Accuracy: 0.614\n",
            "Fold 1 K = 10 Manhattan (L1) Accuracy: 0.5010438413361169\n",
            "Fold 1 K = 10 Euclidean (L2) Accuracy: 0.6096033402922756\n",
            "Fold 2 K = 10 Manhattan (L1) Accuracy: 0.0\n",
            "Fold 2 K = 10 Euclidean (L2) Accuracy: 0.0\n",
            "Fold 3 K = 10 Manhattan (L1) Accuracy: 0.0\n",
            "Fold 3 K = 10 Euclidean (L2) Accuracy: 0.0\n",
            "Fold 4 K = 10 Manhattan (L1) Accuracy: 0.0\n",
            "Fold 4 K = 10 Euclidean (L2) Accuracy: 0.0\n",
            "Fold 0 K = 11 Manhattan (L1) Accuracy: 0.496\n",
            "Fold 0 K = 11 Euclidean (L2) Accuracy: 0.661\n",
            "Fold 1 K = 11 Manhattan (L1) Accuracy: 0.5448851774530271\n",
            "Fold 1 K = 11 Euclidean (L2) Accuracy: 0.6409185803757829\n",
            "Fold 2 K = 11 Manhattan (L1) Accuracy: 0.0\n",
            "Fold 2 K = 11 Euclidean (L2) Accuracy: 0.0\n",
            "Fold 3 K = 11 Manhattan (L1) Accuracy: 0.0\n",
            "Fold 3 K = 11 Euclidean (L2) Accuracy: 0.0\n",
            "Fold 4 K = 11 Manhattan (L1) Accuracy: 0.0\n",
            "Fold 4 K = 11 Euclidean (L2) Accuracy: 0.0\n",
            "Fold 0 K = 12 Manhattan (L1) Accuracy: 0.448\n",
            "Fold 0 K = 12 Euclidean (L2) Accuracy: 0.636\n",
            "Fold 1 K = 12 Manhattan (L1) Accuracy: 0.5198329853862212\n",
            "Fold 1 K = 12 Euclidean (L2) Accuracy: 0.6221294363256785\n",
            "Fold 2 K = 12 Manhattan (L1) Accuracy: 0.0\n",
            "Fold 2 K = 12 Euclidean (L2) Accuracy: 0.0\n",
            "Fold 3 K = 12 Manhattan (L1) Accuracy: 0.0\n",
            "Fold 3 K = 12 Euclidean (L2) Accuracy: 0.0\n",
            "Fold 4 K = 12 Manhattan (L1) Accuracy: 0.0\n",
            "Fold 4 K = 12 Euclidean (L2) Accuracy: 0.0\n",
            "Fold 0 K = 13 Manhattan (L1) Accuracy: 0.5\n",
            "Fold 0 K = 13 Euclidean (L2) Accuracy: 0.652\n",
            "Fold 1 K = 13 Manhattan (L1) Accuracy: 0.5511482254697286\n",
            "Fold 1 K = 13 Euclidean (L2) Accuracy: 0.6346555323590815\n",
            "Fold 2 K = 13 Manhattan (L1) Accuracy: 0.0\n",
            "Fold 2 K = 13 Euclidean (L2) Accuracy: 0.0\n",
            "Fold 3 K = 13 Manhattan (L1) Accuracy: 0.0\n",
            "Fold 3 K = 13 Euclidean (L2) Accuracy: 0.0\n",
            "Fold 4 K = 13 Manhattan (L1) Accuracy: 0.0\n",
            "Fold 4 K = 13 Euclidean (L2) Accuracy: 0.0\n",
            "Fold 0 K = 14 Manhattan (L1) Accuracy: 0.472\n",
            "Fold 0 K = 14 Euclidean (L2) Accuracy: 0.639\n",
            "Fold 1 K = 14 Manhattan (L1) Accuracy: 0.524008350730689\n",
            "Fold 1 K = 14 Euclidean (L2) Accuracy: 0.6450939457202505\n",
            "Fold 2 K = 14 Manhattan (L1) Accuracy: 0.0\n",
            "Fold 2 K = 14 Euclidean (L2) Accuracy: 0.0\n",
            "Fold 3 K = 14 Manhattan (L1) Accuracy: 0.0\n",
            "Fold 3 K = 14 Euclidean (L2) Accuracy: 0.0\n",
            "Fold 4 K = 14 Manhattan (L1) Accuracy: 0.0\n",
            "Fold 4 K = 14 Euclidean (L2) Accuracy: 0.0\n",
            "Fold 0 K = 15 Manhattan (L1) Accuracy: 0.499\n",
            "Fold 0 K = 15 Euclidean (L2) Accuracy: 0.667\n",
            "Fold 1 K = 15 Manhattan (L1) Accuracy: 0.5448851774530271\n",
            "Fold 1 K = 15 Euclidean (L2) Accuracy: 0.6617954070981211\n",
            "Fold 2 K = 15 Manhattan (L1) Accuracy: 0.0\n",
            "Fold 2 K = 15 Euclidean (L2) Accuracy: 0.0\n",
            "Fold 3 K = 15 Manhattan (L1) Accuracy: 0.0\n",
            "Fold 3 K = 15 Euclidean (L2) Accuracy: 0.0\n",
            "Fold 4 K = 15 Manhattan (L1) Accuracy: 0.0\n",
            "Fold 4 K = 15 Euclidean (L2) Accuracy: 0.0\n",
            "Fold 0 K = 16 Manhattan (L1) Accuracy: 0.472\n",
            "Fold 0 K = 16 Euclidean (L2) Accuracy: 0.649\n",
            "Fold 1 K = 16 Manhattan (L1) Accuracy: 0.5281837160751566\n",
            "Fold 1 K = 16 Euclidean (L2) Accuracy: 0.6430062630480167\n",
            "Fold 2 K = 16 Manhattan (L1) Accuracy: 0.0\n",
            "Fold 2 K = 16 Euclidean (L2) Accuracy: 0.0\n",
            "Fold 3 K = 16 Manhattan (L1) Accuracy: 0.0\n",
            "Fold 3 K = 16 Euclidean (L2) Accuracy: 0.0\n",
            "Fold 4 K = 16 Manhattan (L1) Accuracy: 0.0\n",
            "Fold 4 K = 16 Euclidean (L2) Accuracy: 0.0\n",
            "Fold 0 K = 17 Manhattan (L1) Accuracy: 0.49\n",
            "Fold 0 K = 17 Euclidean (L2) Accuracy: 0.684\n",
            "Fold 1 K = 17 Manhattan (L1) Accuracy: 0.5636743215031316\n",
            "Fold 1 K = 17 Euclidean (L2) Accuracy: 0.6701461377870563\n",
            "Fold 2 K = 17 Manhattan (L1) Accuracy: 0.0\n",
            "Fold 2 K = 17 Euclidean (L2) Accuracy: 0.0\n",
            "Fold 3 K = 17 Manhattan (L1) Accuracy: 0.0\n",
            "Fold 3 K = 17 Euclidean (L2) Accuracy: 0.0\n",
            "Fold 4 K = 17 Manhattan (L1) Accuracy: 0.0\n",
            "Fold 4 K = 17 Euclidean (L2) Accuracy: 0.0\n",
            "Fold 0 K = 18 Manhattan (L1) Accuracy: 0.477\n",
            "Fold 0 K = 18 Euclidean (L2) Accuracy: 0.666\n",
            "Fold 1 K = 18 Manhattan (L1) Accuracy: 0.5365344467640919\n",
            "Fold 1 K = 18 Euclidean (L2) Accuracy: 0.6597077244258872\n",
            "Fold 2 K = 18 Manhattan (L1) Accuracy: 0.0\n",
            "Fold 2 K = 18 Euclidean (L2) Accuracy: 0.0\n",
            "Fold 3 K = 18 Manhattan (L1) Accuracy: 0.0\n",
            "Fold 3 K = 18 Euclidean (L2) Accuracy: 0.0\n",
            "Fold 4 K = 18 Manhattan (L1) Accuracy: 0.0\n",
            "Fold 4 K = 18 Euclidean (L2) Accuracy: 0.0\n",
            "Fold 0 K = 19 Manhattan (L1) Accuracy: 0.502\n",
            "Fold 0 K = 19 Euclidean (L2) Accuracy: 0.679\n",
            "Fold 1 K = 19 Manhattan (L1) Accuracy: 0.5636743215031316\n",
            "Fold 1 K = 19 Euclidean (L2) Accuracy: 0.6847599164926931\n",
            "Fold 2 K = 19 Manhattan (L1) Accuracy: 0.0\n",
            "Fold 2 K = 19 Euclidean (L2) Accuracy: 0.0\n",
            "Fold 3 K = 19 Manhattan (L1) Accuracy: 0.0\n",
            "Fold 3 K = 19 Euclidean (L2) Accuracy: 0.0\n",
            "Fold 4 K = 19 Manhattan (L1) Accuracy: 0.0\n",
            "Fold 4 K = 19 Euclidean (L2) Accuracy: 0.0\n",
            "Fold 0 K = 20 Manhattan (L1) Accuracy: 0.48\n",
            "Fold 0 K = 20 Euclidean (L2) Accuracy: 0.671\n",
            "Fold 1 K = 20 Manhattan (L1) Accuracy: 0.5448851774530271\n",
            "Fold 1 K = 20 Euclidean (L2) Accuracy: 0.6847599164926931\n",
            "Fold 2 K = 20 Manhattan (L1) Accuracy: 0.0\n",
            "Fold 2 K = 20 Euclidean (L2) Accuracy: 0.0\n",
            "Fold 3 K = 20 Manhattan (L1) Accuracy: 0.0\n",
            "Fold 3 K = 20 Euclidean (L2) Accuracy: 0.0\n",
            "Fold 4 K = 20 Manhattan (L1) Accuracy: 0.0\n",
            "Fold 4 K = 20 Euclidean (L2) Accuracy: 0.0\n"
          ]
        },
        {
          "output_type": "display_data",
          "data": {
            "text/plain": [
              "<Figure size 640x480 with 1 Axes>"
            ],
            "image/png": "[encoded data removed]"
          },
          "metadata": {}
        }
      ]
    },
    {
      "cell_type": "code",
      "source": [
        "print(\"Top 5 Predictions (Manhattan - L1):\")\n",
        "for i, prediction in enumerate(top_5_predictions_l1[:5]):\n",
        "    print(f\"Prediction {i+1}: Class {prediction}\")\n",
        "\n",
        "print(\"Top 5 Predictions (Euclidean - L2):\")\n",
        "for i, prediction in enumerate(top_5_predictions_l2[:5]):\n",
        "    print(f\"Prediction {i+1}: Class {prediction}\")"
      ],
      "metadata": {
        "colab": {
          "base_uri": "https://localhost:8080/"
        },
        "id": "rKYSNG8VWogR",
        "outputId": "d0b0a9ee-9e50-457f-d0ee-0020475ae4ac"
      },
      "execution_count": 16,
      "outputs": [
        {
          "output_type": "stream",
          "name": "stdout",
          "text": [
            "Top 5 Predictions (Manhattan - L1):\n",
            "Prediction 1: Class ['truck', 'ship', 'truck', 'truck', 'ship']\n",
            "Prediction 2: Class ['ship', 'ship', 'ship', 'ship', 'ship']\n",
            "Prediction 3: Class ['ship', 'ship', 'ship', 'truck', 'ship']\n",
            "Prediction 4: Class ['ship', 'ship', 'ship', 'ship', 'ship']\n",
            "Prediction 5: Class ['truck', 'ship', 'ship', 'truck', 'ship']\n",
            "Top 5 Predictions (Euclidean - L2):\n",
            "Prediction 1: Class ['ship', 'ship', 'ship', 'truck', 'truck']\n",
            "Prediction 2: Class ['ship', 'ship', 'ship', 'truck', 'ship']\n",
            "Prediction 3: Class ['truck', 'truck', 'truck', 'ship', 'ship']\n",
            "Prediction 4: Class ['truck', 'ship', 'truck', 'ship', 'truck']\n",
            "Prediction 5: Class ['truck', 'truck', 'truck', 'truck', 'truck']\n"
          ]
        }
      ]
    }
  ]
}